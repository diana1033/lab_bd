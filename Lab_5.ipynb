{
 "cells": [
  {
   "cell_type": "markdown",
   "metadata": {},
   "source": [
    "# Лабораторная работа №5\n",
    "\n",
    "Маратова Диана AIN-2-21"
   ]
  },
  {
   "cell_type": "code",
   "execution_count": 4,
   "metadata": {},
   "outputs": [],
   "source": [
    "import matplotlib.pyplot as plt\n",
    "from sklearn.linear_model import LinearRegression\n",
    "import numpy as np\n",
    "import mglearn\n",
    "import mglearn.datasets"
   ]
  },
  {
   "cell_type": "markdown",
   "metadata": {},
   "source": [
    "<br>Изучите подключенные данные.\n"
   ]
  },
  {
   "cell_type": "markdown",
   "metadata": {},
   "source": [
    "<br><h5>        load_diabetes(*[, return_X_y, as_frame]) "
   ]
  },
  {
   "cell_type": "code",
   "execution_count": 1,
   "metadata": {},
   "outputs": [
    {
     "name": "stdout",
     "output_type": "stream",
     "text": [
      "Ключи: dict_keys(['data', 'target', 'frame', 'DESCR', 'feature_names', 'data_filename', 'target_filename', 'data_module'])\n"
     ]
    }
   ],
   "source": [
    "from sklearn.datasets import load_diabetes\n",
    "diabetes = load_diabetes()\n",
    "print(\"Ключи: {}\".format(diabetes.keys()))"
   ]
  },
  {
   "cell_type": "code",
   "execution_count": 44,
   "metadata": {},
   "outputs": [
    {
     "name": "stdout",
     "output_type": "stream",
     "text": [
      "(442, 10)\n"
     ]
    },
    {
     "data": {
      "text/plain": [
       "(442,)"
      ]
     },
     "execution_count": 44,
     "metadata": {},
     "output_type": "execute_result"
    }
   ],
   "source": [
    "print(diabetes['data'].shape)\n",
    "diabetes['target'].shape\n"
   ]
  },
  {
   "cell_type": "markdown",
   "metadata": {},
   "source": [
    "<br><h5>        load_linnerud(*[, return_X_y, as_frame])"
   ]
  },
  {
   "cell_type": "code",
   "execution_count": 37,
   "metadata": {},
   "outputs": [
    {
     "name": "stdout",
     "output_type": "stream",
     "text": [
      "Ключи: dict_keys(['data', 'feature_names', 'target', 'target_names', 'frame', 'DESCR', 'data_filename', 'target_filename', 'data_module'])\n"
     ]
    }
   ],
   "source": [
    "from sklearn.datasets import load_linnerud\n",
    "linnerud = load_linnerud()\n",
    "print(\"Ключи: {}\".format(linnerud.keys()))"
   ]
  },
  {
   "cell_type": "code",
   "execution_count": 40,
   "metadata": {},
   "outputs": [
    {
     "name": "stdout",
     "output_type": "stream",
     "text": [
      "(20, 3)\n",
      "(20, 3)\n"
     ]
    }
   ],
   "source": [
    "print(linnerud['data'].shape)\n",
    "print(linnerud['target'].shape)"
   ]
  },
  {
   "cell_type": "code",
   "execution_count": 30,
   "metadata": {},
   "outputs": [
    {
     "name": "stdout",
     "output_type": "stream",
     "text": [
      "['Chins', 'Situps', 'Jumps']\n"
     ]
    }
   ],
   "source": [
    "print(linnerud['feature_names'])\n"
   ]
  },
  {
   "cell_type": "markdown",
   "metadata": {},
   "source": [
    "<br>Постройте модели регрессии (KNeighborsRegressor, LinearRegression, Ridge, Lasso, LogisticRegression) для полученных датасетов, описанные в Ходе работы. \n",
    "\n",
    "\n",
    "a. Настройте наилучшие параметры моделей.\n",
    "\n",
    "b. Сравните результаты.\n"
   ]
  },
  {
   "cell_type": "code",
   "execution_count": 70,
   "metadata": {},
   "outputs": [],
   "source": [
    "from sklearn.model_selection import train_test_split\n",
    "\n",
    "X_train, X_test, y_train, y_test = train_test_split(diabetes.data, diabetes.target, random_state=0)"
   ]
  },
  {
   "cell_type": "code",
   "execution_count": 71,
   "metadata": {},
   "outputs": [
    {
     "name": "stdout",
     "output_type": "stream",
     "text": [
      "обуч-ий набор: 1.00\n",
      "тест-ый набор: -0.55 \n",
      "\n",
      "обуч-ий набор: 0.71\n",
      "тест-ый набор: 0.15 \n",
      "\n",
      "обуч-ий набор: 0.58\n",
      "тест-ый набор: 0.26 \n",
      "\n"
     ]
    }
   ],
   "source": [
    "#KNeighborsRegressor\n",
    "from sklearn.neighbors import KNeighborsRegressor\n",
    "for n_neighbors in [1,3,9]:\n",
    "    reg = KNeighborsRegressor(n_neighbors=n_neighbors)\n",
    "    reg.fit(X_train, y_train)\n",
    "    print(\"обуч-ий набор: {:.2f}\".format(reg.score(X_train, y_train)))\n",
    "    print(\"тест-ый набор: {:.2f} \\n\".format(reg.score(X_test, y_test)))"
   ]
  },
  {
   "cell_type": "markdown",
   "metadata": {},
   "source": [
    "Результаты показывают, что модель KNeighborsRegressor с одним ближайшим соседом (n_neighbors=1) показывает идеальное соответствие обучающим данным (R^2=1.00), но очень плохо обобщается на тестовых данных (R^2=-0.55), что может быть признаком переобучения.\n",
    "\n",
    "Увеличение значения n_neighbors до 3 и 9 улучшает способность модели обобщать данные на тестовом наборе, и R^2 на тестовом наборе становится положительным."
   ]
  },
  {
   "cell_type": "code",
   "execution_count": 33,
   "metadata": {},
   "outputs": [
    {
     "name": "stdout",
     "output_type": "stream",
     "text": [
      "Обуч-ий набор: 0.56\n",
      "Тестовый набор: 0.36\n"
     ]
    }
   ],
   "source": [
    "#LinearRegression\n",
    "lr = LinearRegression().fit(X_train,y_train)\n",
    "print(\"Обуч-ий набор: {:.2f}\".format(lr.score(X_train,y_train)))\n",
    "print(\"Тестовый набор: {:.2f}\".format(lr.score(X_test,y_test)))\n",
    "#lr.coef_"
   ]
  },
  {
   "cell_type": "markdown",
   "metadata": {},
   "source": [
    " В данном случае, R^2 на обучающем наборе немного выше, чем на тестовом наборе, что может указывать на некоторое переобучение модели на обучающих данных. "
   ]
  },
  {
   "cell_type": "code",
   "execution_count": 34,
   "metadata": {},
   "outputs": [
    {
     "name": "stdout",
     "output_type": "stream",
     "text": [
      "Обуч-ий набор: 0.46\n",
      "Тестовый набор: 0.36 \n",
      "\n",
      "Обуч-ий набор 10: 0.17\n",
      "Тестовый набор 10: 0.14 \n",
      "\n",
      "Обуч-ий набор 0.1: 0.55\n",
      "Тестовый набор 0.1: 0.37 \n",
      "\n"
     ]
    }
   ],
   "source": [
    "#Ridge\n",
    "from sklearn.linear_model import Ridge\n",
    "ridge = Ridge().fit(X_train,y_train)\n",
    "print(\"Обуч-ий набор: {:.2f}\".format(ridge.score(X_train,y_train)))\n",
    "print(\"Тестовый набор: {:.2f} \\n\".format(ridge.score(X_test,y_test)))\n",
    "\n",
    "ridge10 = Ridge(alpha=10).fit(X_train,y_train)\n",
    "print(\"Обуч-ий набор 10: {:.2f}\".format(ridge10.score(X_train,y_train)))\n",
    "print(\"Тестовый набор 10: {:.2f} \\n\".format(ridge10.score(X_test,y_test)))\n",
    "\n",
    "ridge01 = Ridge(alpha=0.1).fit(X_train,y_train)\n",
    "print(\"Обуч-ий набор 0.1: {:.2f}\".format(ridge01.score(X_train,y_train)))\n",
    "print(\"Тестовый набор 0.1: {:.2f} \\n\".format(ridge01.score(X_test,y_test)))"
   ]
  },
  {
   "cell_type": "markdown",
   "metadata": {},
   "source": [
    "Результаты для Ridge регрессии показывают, что при увеличении alpha модель становится менее склонной к переобучению, но при этом могут ухудшаться результаты. Наименьшее значение alpha=0.1 показывает наилучшие результаты на тестовом наборе данных."
   ]
  },
  {
   "cell_type": "code",
   "execution_count": 30,
   "metadata": {},
   "outputs": [
    {
     "name": "stdout",
     "output_type": "stream",
     "text": [
      "Обуч-ий набор: 0.41\n",
      "Тестовый набор: 0.28 \n",
      "кол-во исп признаков: 2 \n",
      "\n",
      "Обуч-ий набор: 0.55\n",
      "Тестовый набор: 0.35 \n",
      "кол-во исп признаков: 9 \n",
      "\n",
      "Обуч-ий набор: 0.56\n",
      "Тестовый набор: 0.36 \n",
      "кол-во исп признаков: 10 \n",
      "\n"
     ]
    }
   ],
   "source": [
    "#Lasso\n",
    "from sklearn.linear_model import Lasso\n",
    "lasso = Lasso().fit(X_train,y_train)\n",
    "print(\"Обуч-ий набор: {:.2f}\".format(lasso.score(X_train,y_train)))\n",
    "print(\"Тестовый набор: {:.2f} \".format(lasso.score(X_test,y_test)))\n",
    "print(\"кол-во исп признаков: {} \\n\".format(np.sum(lasso.coef_!=0)))\n",
    "\n",
    "lasso001 = Lasso(alpha=0.01, max_iter=100000).fit(X_train,y_train)\n",
    "print(\"Обуч-ий набор: {:.2f}\".format(lasso001.score(X_train,y_train)))\n",
    "print(\"Тестовый набор: {:.2f} \".format(lasso001.score(X_test,y_test)))\n",
    "print(\"кол-во исп признаков: {} \\n\".format(np.sum(lasso001.coef_!=0)))\n",
    "\n",
    "lasso0001 = Lasso(alpha=0.001, max_iter=100000).fit(X_train,y_train)\n",
    "print(\"Обуч-ий набор: {:.2f}\".format(lasso0001.score(X_train,y_train)))\n",
    "print(\"Тестовый набор: {:.2f} \".format(lasso0001.score(X_test,y_test)))\n",
    "print(\"кол-во исп признаков: {} \\n\".format(np.sum(lasso0001.coef_!=0)))"
   ]
  },
  {
   "cell_type": "markdown",
   "metadata": {},
   "source": [
    "Результаты показывают, что уменьшение значения alpha в Lasso регрессии приводит к увеличению числа используемых признаков и улучшению качества модели на тестовом наборе данных."
   ]
  },
  {
   "cell_type": "code",
   "execution_count": 60,
   "metadata": {},
   "outputs": [
    {
     "name": "stdout",
     "output_type": "stream",
     "text": [
      "Обуч-ий набор: 0.033\n",
      "Тестовый набор: 0.009 \n",
      "\n",
      "Обуч-ий набор 10: 0.178\n",
      "Тестовый набор 10: 0.009 \n",
      "\n",
      "Обуч-ий набор 0.1: 0.030\n",
      "Тестовый набор 0.1: 0.009 \n",
      "\n"
     ]
    }
   ],
   "source": [
    "#LogisticRegression\n",
    "from sklearn.linear_model import LogisticRegression\n",
    "logreg = LogisticRegression().fit(X_train,y_train)\n",
    "print(\"Обуч-ий набор: {:.3f}\".format(logreg.score(X_train,y_train)))\n",
    "print(\"Тестовый набор: {:.3f} \\n\".format(logreg.score(X_test,y_test)))\n",
    "\n",
    "logreg100 = LogisticRegression(C=100).fit(X_train,y_train)\n",
    "print(\"Обуч-ий набор 10: {:.3f}\".format(logreg100.score(X_train,y_train)))\n",
    "print(\"Тестовый набор 10: {:.3f} \\n\".format(logreg100.score(X_test,y_test)))\n",
    "\n",
    "logreg001 = LogisticRegression(C=0.01).fit(X_train,y_train)\n",
    "print(\"Обуч-ий набор 0.1: {:.3f}\".format(logreg001.score(X_train,y_train)))\n",
    "print(\"Тестовый набор 0.1: {:.3f} \\n\".format(logreg001.score(X_test,y_test)))"
   ]
  },
  {
   "cell_type": "code",
   "execution_count": 48,
   "metadata": {},
   "outputs": [],
   "source": [
    "from sklearn.model_selection import train_test_split\n",
    "\n",
    "X_train_l, X_test_l, y_train_l, y_test_l = train_test_split(linnerud.data, linnerud.target, random_state=0)"
   ]
  },
  {
   "cell_type": "code",
   "execution_count": 72,
   "metadata": {},
   "outputs": [
    {
     "name": "stdout",
     "output_type": "stream",
     "text": [
      "обуч-ий набор: 1.00\n",
      "тест-ый набор: -0.72 \n",
      "\n",
      "обуч-ий набор: 0.46\n",
      "тест-ый набор: -0.57 \n",
      "\n",
      "обуч-ий набор: 0.13\n",
      "тест-ый набор: -0.59 \n",
      "\n"
     ]
    }
   ],
   "source": [
    "#KNeighborsRegressor\n",
    "from sklearn.neighbors import KNeighborsRegressor\n",
    "for n_neighbors in [1,3,9]:\n",
    "    reg = KNeighborsRegressor(n_neighbors=n_neighbors)\n",
    "    reg.fit(X_train_l, y_train_l)\n",
    "    print(\"обуч-ий набор: {:.2f}\".format(reg.score(X_train_l, y_train_l)))\n",
    "    print(\"тест-ый набор: {:.2f} \\n\".format(reg.score(X_test_l, y_test_l)))"
   ]
  },
  {
   "cell_type": "markdown",
   "metadata": {},
   "source": [
    "Mодель KNeighborsRegressor с одним ближайшим соседом (n_neighbors=1) показывает идеальное соответствие обучающим данным (R^2=1.00), но очень плохо обобщается на тестовых данных (R^2=-0.72), что может быть признаком переобучения."
   ]
  },
  {
   "cell_type": "code",
   "execution_count": 53,
   "metadata": {},
   "outputs": [
    {
     "name": "stdout",
     "output_type": "stream",
     "text": [
      "Обуч-ий набор: 0.38\n",
      "Тестовый набор: -1.24\n"
     ]
    }
   ],
   "source": [
    "#LinearRegression\n",
    "lr = LinearRegression().fit(X_train_l,y_train_l)\n",
    "print(\"Обуч-ий набор: {:.2f}\".format(lr.score(X_train_l,y_train_l)))\n",
    "print(\"Тестовый набор: {:.2f}\".format(lr.score(X_test_l,y_test_l)))"
   ]
  },
  {
   "cell_type": "code",
   "execution_count": 55,
   "metadata": {},
   "outputs": [
    {
     "name": "stdout",
     "output_type": "stream",
     "text": [
      "Обуч-ий набор: 0.38\n",
      "Тестовый набор: -1.23 \n",
      "\n",
      "Обуч-ий набор 10: 0.38\n",
      "Тестовый набор 10: -1.13 \n",
      "\n",
      "Обуч-ий набор 0.1: 0.38\n",
      "Тестовый набор 0.1: -1.24 \n",
      "\n"
     ]
    }
   ],
   "source": [
    "#Ridge\n",
    "from sklearn.linear_model import Ridge\n",
    "ridge = Ridge().fit(X_train_l,y_train_l)\n",
    "print(\"Обуч-ий набор: {:.2f}\".format(ridge.score(X_train_l,y_train_l)))\n",
    "print(\"Тестовый набор: {:.2f} \\n\".format(ridge.score(X_test_l,y_test_l)))\n",
    "\n",
    "ridge10 = Ridge(alpha=10).fit(X_train_l,y_train_l)\n",
    "print(\"Обуч-ий набор 10: {:.2f}\".format(ridge10.score(X_train_l,y_train_l)))\n",
    "print(\"Тестовый набор 10: {:.2f} \\n\".format(ridge10.score(X_test_l,y_test_l)))\n",
    "\n",
    "ridge01 = Ridge(alpha=0.1).fit(X_train_l,y_train_l)\n",
    "print(\"Обуч-ий набор 0.1: {:.2f}\".format(ridge01.score(X_train_l,y_train_l)))\n",
    "print(\"Тестовый набор 0.1: {:.2f} \\n\".format(ridge01.score(X_test_l,y_test_l)))"
   ]
  },
  {
   "cell_type": "code",
   "execution_count": 57,
   "metadata": {},
   "outputs": [
    {
     "name": "stdout",
     "output_type": "stream",
     "text": [
      "Обуч-ий набор: 0.38\n",
      "Тестовый набор: -0.98 \n",
      "кол-во исп признаков: 9 \n",
      "\n",
      "Обуч-ий набор: 0.38\n",
      "Тестовый набор: -1.24 \n",
      "кол-во исп признаков: 9 \n",
      "\n",
      "Обуч-ий набор: 0.38\n",
      "Тестовый набор: -1.24 \n",
      "кол-во исп признаков: 9 \n",
      "\n"
     ]
    }
   ],
   "source": [
    "#Lasso\n",
    "from sklearn.linear_model import Lasso\n",
    "lasso = Lasso().fit(X_train_l,y_train_l)\n",
    "print(\"Обуч-ий набор: {:.2f}\".format(lasso.score(X_train_l,y_train_l)))\n",
    "print(\"Тестовый набор: {:.2f} \".format(lasso.score(X_test_l,y_test_l)))\n",
    "print(\"кол-во исп признаков: {} \\n\".format(np.sum(lasso.coef_!=0)))\n",
    "\n",
    "lasso001 = Lasso(alpha=0.01, max_iter=100000).fit(X_train_l,y_train_l)\n",
    "print(\"Обуч-ий набор: {:.2f}\".format(lasso001.score(X_train_l,y_train_l)))\n",
    "print(\"Тестовый набор: {:.2f} \".format(lasso001.score(X_test_l,y_test_l)))\n",
    "print(\"кол-во исп признаков: {} \\n\".format(np.sum(lasso001.coef_!=0)))\n",
    "\n",
    "lasso0001 = Lasso(alpha=0.001, max_iter=100000).fit(X_train_l,y_train_l)\n",
    "print(\"Обуч-ий набор: {:.2f}\".format(lasso0001.score(X_train_l,y_train_l)))\n",
    "print(\"Тестовый набор: {:.2f} \".format(lasso0001.score(X_test_l,y_test_l)))\n",
    "print(\"кол-во исп признаков: {} \\n\".format(np.sum(lasso0001.coef_!=0)))"
   ]
  }
 ],
 "metadata": {
  "kernelspec": {
   "display_name": "Python 3",
   "language": "python",
   "name": "python3"
  },
  "language_info": {
   "codemirror_mode": {
    "name": "ipython",
    "version": 3
   },
   "file_extension": ".py",
   "mimetype": "text/x-python",
   "name": "python",
   "nbconvert_exporter": "python",
   "pygments_lexer": "ipython3",
   "version": "3.10.2"
  }
 },
 "nbformat": 4,
 "nbformat_minor": 2
}
