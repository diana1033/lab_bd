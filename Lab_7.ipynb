{
 "cells": [
  {
   "cell_type": "markdown",
   "metadata": {},
   "source": [
    "# Лабораторная работа №7\n",
    "\n",
    "Маратова Диана AIN-2-21"
   ]
  },
  {
   "cell_type": "markdown",
   "metadata": {},
   "source": [
    "        1. Изучите материал лекции 12, проделайте пример, описанный в ходе работы."
   ]
  },
  {
   "cell_type": "code",
   "execution_count": 17,
   "metadata": {},
   "outputs": [
    {
     "name": "stdout",
     "output_type": "stream",
     "text": [
      "<class 'list'>\n",
      "25000\n"
     ]
    },
    {
     "data": {
      "text/plain": [
       "b'Words can\\'t describe how bad this movie is. I can\\'t explain it by writing only. You have too see it for yourself to get at grip of how horrible a movie really can be. Not that I recommend you to do that. There are so many clich\\xc3\\xa9s, mistakes (and all other negative things you can imagine) here that will just make you cry. To start with the technical first, there are a LOT of mistakes regarding the airplane. I won\\'t list them here, but just mention the coloring of the plane. They didn\\'t even manage to show an airliner in the colors of a fictional airline, but instead used a 747 painted in the original Boeing livery. Very bad. The plot is stupid and has been done many times before, only much, much better. There are so many ridiculous moments here that i lost count of it really early. Also, I was on the bad guys\\' side all the time in the movie, because the good guys were so stupid. \"Executive Decision\" should without a doubt be you\\'re choice over this one, even the \"Turbulence\"-movies are better. In fact, every other movie in the world is better than this one.'"
      ]
     },
     "execution_count": 17,
     "metadata": {},
     "output_type": "execute_result"
    }
   ],
   "source": [
    "from sklearn.datasets import load_files\n",
    "reviews_train = load_files(\"aclImdb/train/\")\n",
    "\n",
    "text_train, y_train = reviews_train.data, reviews_train.target\n",
    "print(type(text_train))\n",
    "print(len(text_train))\n",
    "text_train[1]"
   ]
  },
  {
   "cell_type": "code",
   "execution_count": 18,
   "metadata": {},
   "outputs": [
    {
     "data": {
      "text/plain": [
       "b'Words can\\'t describe how bad this movie is. I can\\'t explain it by writing only. You have too see it for yourself to get at grip of how horrible a movie really can be. Not that I recommend you to do that. There are so many clich\\xc3\\xa9s, mistakes (and all other negative things you can imagine) here that will just make you cry. To start with the technical first, there are a LOT of mistakes regarding the airplane. I won\\'t list them here, but just mention the coloring of the plane. They didn\\'t even manage to show an airliner in the colors of a fictional airline, but instead used a 747 painted in the original Boeing livery. Very bad. The plot is stupid and has been done many times before, only much, much better. There are so many ridiculous moments here that i lost count of it really early. Also, I was on the bad guys\\' side all the time in the movie, because the good guys were so stupid. \"Executive Decision\" should without a doubt be you\\'re choice over this one, even the \"Turbulence\"-movies are better. In fact, every other movie in the world is better than this one.'"
      ]
     },
     "execution_count": 18,
     "metadata": {},
     "output_type": "execute_result"
    }
   ],
   "source": [
    "text_train = [doc.replace(b\"<br />\", b\" \") for doc in text_train]\n",
    "text_train[1]"
   ]
  },
  {
   "cell_type": "code",
   "execution_count": 19,
   "metadata": {},
   "outputs": [
    {
     "data": {
      "text/plain": [
       "array([0, 1])"
      ]
     },
     "execution_count": 19,
     "metadata": {},
     "output_type": "execute_result"
    }
   ],
   "source": [
    "import numpy as np\n",
    "np.unique(y_train)"
   ]
  },
  {
   "cell_type": "code",
   "execution_count": 20,
   "metadata": {},
   "outputs": [
    {
     "data": {
      "text/plain": [
       "array([12500, 12500], dtype=int64)"
      ]
     },
     "execution_count": 20,
     "metadata": {},
     "output_type": "execute_result"
    }
   ],
   "source": [
    "np.bincount(y_train)"
   ]
  },
  {
   "cell_type": "code",
   "execution_count": 21,
   "metadata": {},
   "outputs": [
    {
     "name": "stdout",
     "output_type": "stream",
     "text": [
      "25000\n"
     ]
    },
    {
     "data": {
      "text/plain": [
       "array([12500, 12500], dtype=int64)"
      ]
     },
     "execution_count": 21,
     "metadata": {},
     "output_type": "execute_result"
    }
   ],
   "source": [
    "reviews_test = load_files(\"aclImdb/test/\")\n",
    "text_test, y_test = reviews_test.data, reviews_test.target\n",
    "print(len(text_test))\n",
    "text_test = [doc.replace(b\"<br />\", b\" \") for doc in text_test]\n",
    "np.bincount(y_test)"
   ]
  },
  {
   "cell_type": "code",
   "execution_count": 22,
   "metadata": {},
   "outputs": [
    {
     "name": "stdout",
     "output_type": "stream",
     "text": [
      "<25000x74849 sparse matrix of type '<class 'numpy.int64'>'\n",
      "\twith 3431196 stored elements in Compressed Sparse Row format>\n"
     ]
    }
   ],
   "source": [
    "from sklearn.feature_extraction.text import CountVectorizer\n",
    "vect = CountVectorizer().fit(text_train)\n",
    "X_train = vect.transform(text_train)\n",
    "print(repr(X_train))"
   ]
  },
  {
   "cell_type": "code",
   "execution_count": 23,
   "metadata": {},
   "outputs": [
    {
     "data": {
      "text/html": [
       "<style>#sk-container-id-2 {color: black;}#sk-container-id-2 pre{padding: 0;}#sk-container-id-2 div.sk-toggleable {background-color: white;}#sk-container-id-2 label.sk-toggleable__label {cursor: pointer;display: block;width: 100%;margin-bottom: 0;padding: 0.3em;box-sizing: border-box;text-align: center;}#sk-container-id-2 label.sk-toggleable__label-arrow:before {content: \"▸\";float: left;margin-right: 0.25em;color: #696969;}#sk-container-id-2 label.sk-toggleable__label-arrow:hover:before {color: black;}#sk-container-id-2 div.sk-estimator:hover label.sk-toggleable__label-arrow:before {color: black;}#sk-container-id-2 div.sk-toggleable__content {max-height: 0;max-width: 0;overflow: hidden;text-align: left;background-color: #f0f8ff;}#sk-container-id-2 div.sk-toggleable__content pre {margin: 0.2em;color: black;border-radius: 0.25em;background-color: #f0f8ff;}#sk-container-id-2 input.sk-toggleable__control:checked~div.sk-toggleable__content {max-height: 200px;max-width: 100%;overflow: auto;}#sk-container-id-2 input.sk-toggleable__control:checked~label.sk-toggleable__label-arrow:before {content: \"▾\";}#sk-container-id-2 div.sk-estimator input.sk-toggleable__control:checked~label.sk-toggleable__label {background-color: #d4ebff;}#sk-container-id-2 div.sk-label input.sk-toggleable__control:checked~label.sk-toggleable__label {background-color: #d4ebff;}#sk-container-id-2 input.sk-hidden--visually {border: 0;clip: rect(1px 1px 1px 1px);clip: rect(1px, 1px, 1px, 1px);height: 1px;margin: -1px;overflow: hidden;padding: 0;position: absolute;width: 1px;}#sk-container-id-2 div.sk-estimator {font-family: monospace;background-color: #f0f8ff;border: 1px dotted black;border-radius: 0.25em;box-sizing: border-box;margin-bottom: 0.5em;}#sk-container-id-2 div.sk-estimator:hover {background-color: #d4ebff;}#sk-container-id-2 div.sk-parallel-item::after {content: \"\";width: 100%;border-bottom: 1px solid gray;flex-grow: 1;}#sk-container-id-2 div.sk-label:hover label.sk-toggleable__label {background-color: #d4ebff;}#sk-container-id-2 div.sk-serial::before {content: \"\";position: absolute;border-left: 1px solid gray;box-sizing: border-box;top: 0;bottom: 0;left: 50%;z-index: 0;}#sk-container-id-2 div.sk-serial {display: flex;flex-direction: column;align-items: center;background-color: white;padding-right: 0.2em;padding-left: 0.2em;position: relative;}#sk-container-id-2 div.sk-item {position: relative;z-index: 1;}#sk-container-id-2 div.sk-parallel {display: flex;align-items: stretch;justify-content: center;background-color: white;position: relative;}#sk-container-id-2 div.sk-item::before, #sk-container-id-2 div.sk-parallel-item::before {content: \"\";position: absolute;border-left: 1px solid gray;box-sizing: border-box;top: 0;bottom: 0;left: 50%;z-index: -1;}#sk-container-id-2 div.sk-parallel-item {display: flex;flex-direction: column;z-index: 1;position: relative;background-color: white;}#sk-container-id-2 div.sk-parallel-item:first-child::after {align-self: flex-end;width: 50%;}#sk-container-id-2 div.sk-parallel-item:last-child::after {align-self: flex-start;width: 50%;}#sk-container-id-2 div.sk-parallel-item:only-child::after {width: 0;}#sk-container-id-2 div.sk-dashed-wrapped {border: 1px dashed gray;margin: 0 0.4em 0.5em 0.4em;box-sizing: border-box;padding-bottom: 0.4em;background-color: white;}#sk-container-id-2 div.sk-label label {font-family: monospace;font-weight: bold;display: inline-block;line-height: 1.2em;}#sk-container-id-2 div.sk-label-container {text-align: center;}#sk-container-id-2 div.sk-container {/* jupyter's `normalize.less` sets `[hidden] { display: none; }` but bootstrap.min.css set `[hidden] { display: none !important; }` so we also need the `!important` here to be able to override the default hidden behavior on the sphinx rendered scikit-learn.org. See: https://github.com/scikit-learn/scikit-learn/issues/21755 */display: inline-block !important;position: relative;}#sk-container-id-2 div.sk-text-repr-fallback {display: none;}</style><div id=\"sk-container-id-2\" class=\"sk-top-container\"><div class=\"sk-text-repr-fallback\"><pre>CountVectorizer()</pre><b>In a Jupyter environment, please rerun this cell to show the HTML representation or trust the notebook. <br />On GitHub, the HTML representation is unable to render, please try loading this page with nbviewer.org.</b></div><div class=\"sk-container\" hidden><div class=\"sk-item\"><div class=\"sk-estimator sk-toggleable\"><input class=\"sk-toggleable__control sk-hidden--visually\" id=\"sk-estimator-id-2\" type=\"checkbox\" checked><label for=\"sk-estimator-id-2\" class=\"sk-toggleable__label sk-toggleable__label-arrow\">CountVectorizer</label><div class=\"sk-toggleable__content\"><pre>CountVectorizer()</pre></div></div></div></div></div>"
      ],
      "text/plain": [
       "CountVectorizer()"
      ]
     },
     "execution_count": 23,
     "metadata": {},
     "output_type": "execute_result"
    }
   ],
   "source": [
    "vect"
   ]
  },
  {
   "cell_type": "code",
   "execution_count": 26,
   "metadata": {},
   "outputs": [
    {
     "name": "stdout",
     "output_type": "stream",
     "text": [
      "74849\n",
      "['00' '000' '0000000000001' '00001' '00015' '000s' '001' '003830' '006'\n",
      " '007' '0079' '0080' '0083' '0093638' '00am' '00pm' '00s' '01' '01pm' '02']\n",
      "[]\n",
      "['00' 'aesir' 'aquarian' 'barking' 'blustering' 'bête' 'chicanery'\n",
      " 'condensing' 'cunning' 'detox' 'draper' 'enshrined' 'favorit' 'freezer'\n",
      " 'goldman' 'hasan' 'huitieme' 'intelligible' 'kantrowitz' 'lawful' 'maars'\n",
      " 'megalunged' 'mostey' 'norrland' 'padilla' 'pincher' 'promisingly'\n",
      " 'receptionist' 'rivals' 'schnaas' 'shunning' 'sparse' 'subset'\n",
      " 'temptations' 'treatises' 'unproven' 'walkman' 'xylophonist']\n"
     ]
    }
   ],
   "source": [
    "feature_names = vect.get_feature_names_out()\n",
    "print(len(feature_names))\n",
    "print(feature_names[:20])\n",
    "print(feature_names[20010:10030])\n",
    "print(feature_names[::2000])\n"
   ]
  },
  {
   "cell_type": "code",
   "execution_count": 51,
   "metadata": {},
   "outputs": [
    {
     "name": "stdout",
     "output_type": "stream",
     "text": [
      "0.8729199999999999\n"
     ]
    }
   ],
   "source": [
    "from sklearn.model_selection import cross_val_score\n",
    "from sklearn.linear_model import LogisticRegression\n",
    "scores = cross_val_score(LogisticRegression(max_iter=10000),X_train,y_train,cv=5)\n",
    "print(np.mean(scores))"
   ]
  },
  {
   "cell_type": "code",
   "execution_count": 52,
   "metadata": {},
   "outputs": [
    {
     "name": "stdout",
     "output_type": "stream",
     "text": [
      "0.89444\n"
     ]
    },
    {
     "data": {
      "text/plain": [
       "{'C': 0.001}"
      ]
     },
     "execution_count": 52,
     "metadata": {},
     "output_type": "execute_result"
    }
   ],
   "source": [
    "from sklearn.model_selection import GridSearchCV\n",
    "param_grid = {'C': [0.001,0.01,0.1,1,10]}\n",
    "grid = GridSearchCV(LogisticRegression(max_iter=10000), param_grid, cv=5)\n",
    "grid.fit(X_train,y_train)\n",
    "print(grid.best_score_)\n",
    "grid.best_params_"
   ]
  },
  {
   "cell_type": "code",
   "execution_count": 29,
   "metadata": {},
   "outputs": [
    {
     "data": {
      "text/plain": [
       "0.8788"
      ]
     },
     "execution_count": 29,
     "metadata": {},
     "output_type": "execute_result"
    }
   ],
   "source": [
    "X_test = vect.transform(text_test)\n",
    "grid.score(X_test,y_test)"
   ]
  },
  {
   "cell_type": "code",
   "execution_count": 30,
   "metadata": {},
   "outputs": [
    {
     "data": {
      "text/plain": [
       "\"<25000x27271 sparse matrix of type '<class 'numpy.int64'>'\\n\\twith 3354014 stored elements in Compressed Sparse Row format>\""
      ]
     },
     "execution_count": 30,
     "metadata": {},
     "output_type": "execute_result"
    }
   ],
   "source": [
    "vect = CountVectorizer(min_df=5).fit(text_train)\n",
    "X_train = vect.transform(text_train)\n",
    "repr(X_train)"
   ]
  },
  {
   "cell_type": "code",
   "execution_count": 31,
   "metadata": {},
   "outputs": [
    {
     "name": "stdout",
     "output_type": "stream",
     "text": [
      "['00' '000' '007' '00s' '01' '02' '03' '04' '05' '06' '07' '08' '09' '10'\n",
      " '100' '1000' '100th' '101' '102' '103' '104' '105' '107' '108' '10s'\n",
      " '10th' '11' '110' '112' '116' '117' '11th' '12' '120' '12th' '13' '135'\n",
      " '13th' '14' '140' '14th' '15' '150' '15th' '16' '160' '1600' '16mm' '16s'\n",
      " '16th']\n",
      "['repentance' 'repercussions' 'repertoire' 'repetition' 'repetitions'\n",
      " 'repetitious' 'repetitive' 'rephrase' 'replace' 'replaced' 'replacement'\n",
      " 'replaces' 'replacing' 'replay' 'replayable' 'replayed' 'replaying'\n",
      " 'replays' 'replete' 'replica']\n"
     ]
    },
    {
     "data": {
      "text/plain": [
       "array(['00', 'affections', 'appropriately', 'barbra', 'blurbs',\n",
       "       'butchered', 'cheese', 'commitment', 'courts', 'deconstructed',\n",
       "       'disgraceful', 'dvds', 'eschews', 'fell', 'freezer', 'goriest',\n",
       "       'hauser', 'hungary', 'insinuate', 'juggle', 'leering', 'maelstrom',\n",
       "       'messiah', 'music', 'occasional', 'parking', 'pleasantville',\n",
       "       'pronunciation', 'recipient', 'reviews', 'sas', 'shea', 'sneers',\n",
       "       'steiger', 'swastika', 'thrusting', 'tvs', 'vampyre', 'westerns'],\n",
       "      dtype=object)"
      ]
     },
     "execution_count": 31,
     "metadata": {},
     "output_type": "execute_result"
    }
   ],
   "source": [
    "feature_names = vect.get_feature_names_out()\n",
    "print(feature_names[:50])\n",
    "print(feature_names[20010:20030])\n",
    "feature_names[::700]"
   ]
  },
  {
   "cell_type": "code",
   "execution_count": 53,
   "metadata": {},
   "outputs": [
    {
     "name": "stdout",
     "output_type": "stream",
     "text": [
      "0.89444\n"
     ]
    }
   ],
   "source": [
    "grid = GridSearchCV(LogisticRegression(max_iter=10000), param_grid, cv=5)\n",
    "grid.fit(X_train,y_train)\n",
    "print(grid.best_score_)"
   ]
  },
  {
   "cell_type": "code",
   "execution_count": 34,
   "metadata": {},
   "outputs": [
    {
     "name": "stdout",
     "output_type": "stream",
     "text": [
      "318\n",
      "['mine', 'nor', 'wherever', 'made', 'have', 'everywhere', 'toward', 'hasnt', 'how', 'his', 'first', 'onto', 'amongst', 'against', 'being', 'forty', 'third', 'your', 'without', 'ever', 'several', 'see', 'move', 'himself', 'empty', 'was', 'off', 'this', 'above', 'upon', 'three', 'can']\n"
     ]
    }
   ],
   "source": [
    "from sklearn.feature_extraction.text import ENGLISH_STOP_WORDS\n",
    "print(len(ENGLISH_STOP_WORDS))\n",
    "print(list(ENGLISH_STOP_WORDS)[::10])"
   ]
  },
  {
   "cell_type": "code",
   "execution_count": 35,
   "metadata": {},
   "outputs": [
    {
     "data": {
      "text/plain": [
       "\"<25000x26966 sparse matrix of type '<class 'numpy.int64'>'\\n\\twith 2149958 stored elements in Compressed Sparse Row format>\""
      ]
     },
     "execution_count": 35,
     "metadata": {},
     "output_type": "execute_result"
    }
   ],
   "source": [
    "vect = CountVectorizer(min_df=5, stop_words=\"english\").fit(text_train)\n",
    "X_train = vect.transform(text_train)\n",
    "repr(X_train)"
   ]
  },
  {
   "cell_type": "code",
   "execution_count": 54,
   "metadata": {},
   "outputs": [
    {
     "name": "stdout",
     "output_type": "stream",
     "text": [
      "0.89444\n"
     ]
    }
   ],
   "source": [
    "grid = GridSearchCV(LogisticRegression(max_iter=10000), param_grid, cv=5)\n",
    "grid.fit(X_train,y_train)\n",
    "print(grid.best_score_)"
   ]
  },
  {
   "cell_type": "code",
   "execution_count": 50,
   "metadata": {},
   "outputs": [
    {
     "name": "stdout",
     "output_type": "stream",
     "text": [
      "0.8938400000000002\n"
     ]
    }
   ],
   "source": [
    "from sklearn.feature_extraction.text import TfidfVectorizer\n",
    "from sklearn.pipeline import make_pipeline\n",
    "pipe = make_pipeline(TfidfVectorizer(min_df=5,norm=None),LogisticRegression(max_iter=10000))\n",
    "param_grid = {'logisticregression__C':[0.001,0.01,0.1,1,10]}\n",
    "grid = GridSearchCV(pipe,param_grid, cv=5)\n",
    "grid.fit(text_train,y_train)\n",
    "print(grid.best_score_)"
   ]
  },
  {
   "cell_type": "code",
   "execution_count": 47,
   "metadata": {},
   "outputs": [
    {
     "name": "stdout",
     "output_type": "stream",
     "text": [
      "['poignant' 'disagree' 'instantly' 'importantly' 'lacked' 'occurred'\n",
      " 'currently' 'altogether' 'nearby' 'undoubtedly' 'directs' 'fond'\n",
      " 'stinker' 'avoided' 'emphasis' 'commented' 'disappoint' 'realizing'\n",
      " 'downhill' 'inane']\n",
      "['coop' 'homer' 'dillinger' 'hackenstein' 'gadget' 'taker' 'macarthur'\n",
      " 'vargas' 'jesse' 'basket' 'dominick' 'the' 'victor' 'bridget' 'victoria'\n",
      " 'khouri' 'zizek' 'rob' 'timon' 'titanic']\n"
     ]
    }
   ],
   "source": [
    "vectorizer = grid.best_estimator_.named_steps[\"tfidfvectorizer\"]\n",
    "X_train = vectorizer.transform(text_train)\n",
    "max_value = X_train.max(axis=0).toarray().ravel()\n",
    "sorted_by_tfidf = max_value.argsort()\n",
    "print(feature_names[sorted_by_tfidf[:20]])\n",
    "print(feature_names[sorted_by_tfidf[-20:]])\n"
   ]
  },
  {
   "cell_type": "code",
   "execution_count": 57,
   "metadata": {},
   "outputs": [
    {
     "name": "stdout",
     "output_type": "stream",
     "text": [
      "0.9063599999999999\n"
     ]
    },
    {
     "data": {
      "text/plain": [
       "{'logisticregression__C': 10, 'tfidfvectorizer__ngram_range': (1, 3)}"
      ]
     },
     "execution_count": 57,
     "metadata": {},
     "output_type": "execute_result"
    }
   ],
   "source": [
    "pipe = make_pipeline(TfidfVectorizer(min_df=5),LogisticRegression(max_iter=10000))\n",
    "\n",
    "param_grid = {\n",
    "    'logisticregression__C': [0.001, 0.01, 0.1, 1, 10],\n",
    "    'tfidfvectorizer__ngram_range': [(1, 1), (1, 2), (1, 3)]}\n",
    "grid = GridSearchCV(pipe,param_grid, cv=5)\n",
    "grid.fit(text_train,y_train)\n",
    "print(grid.best_score_)\n",
    "grid.best_params_"
   ]
  },
  {
   "cell_type": "code",
   "execution_count": 69,
   "metadata": {},
   "outputs": [
    {
     "data": {
      "text/plain": [
       "(-22.0, 22.0)"
      ]
     },
     "execution_count": 69,
     "metadata": {},
     "output_type": "execute_result"
    },
    {
     "data": {
      "image/png": "[encoded data removed]",
      "text/plain": [
       "<Figure size 1500x500 with 1 Axes>"
      ]
     },
     "metadata": {},
     "output_type": "display_data"
    }
   ],
   "source": [
    "import mglearn\n",
    "import matplotlib.pyplot as plt\n",
    "vect = grid.best_estimator_.named_steps['tfidfvectorizer']\n",
    "feature_names = np.array(vect.get_feature_names_out())\n",
    "coef = grid.best_estimator_.named_steps['logisticregression'].coef_\n",
    "mglearn.tools.visualize_coefficients(coef,feature_names, n_top_features=40)\n",
    "plt.ylim(-22,22)"
   ]
  },
  {
   "cell_type": "markdown",
   "metadata": {},
   "source": [
    "        2. Создайте свой «мешок слов», например, набор из 20-25 отзывов о чем-либо, напишите краткое пояснение к данным."
   ]
  },
  {
   "cell_type": "code",
   "execution_count": 127,
   "metadata": {},
   "outputs": [],
   "source": [
    "book_rewiews = [\n",
    "    \"The book was a thrilling adventure from start to finish. I couldn't put it down.\",\n",
    "    \"An absolute masterpiece! The author's storytelling is captivating and thought-provoking.\",\n",
    "    \"I found the characters to be well-developed and relatable. A truly engaging read.\",\n",
    "    \"This book surpassed all my expectations. The plot twists kept me on the edge of my seat.\",\n",
    "    \"A must-read for anyone who loves a good mystery. The suspense is expertly crafted.\",\n",
    "    \"The prose is poetic and evocative. I was transported into the world of the story.\",\n",
    "    \"The author's exploration of themes is profound. This book stayed with me long after I finished it.\",\n",
    "    \"I couldn't get enough of the rich world-building. It felt like I was living in the story.\",\n",
    "    \"The pacing is perfect. Each chapter leaves you hungry for more.\",\n",
    "    \"An emotional rollercoaster! This book made me laugh, cry, and everything in between.\",\n",
    "    \"The ending was satisfying and unexpected. I love when a book keeps me guessing until the last page.\",\n",
    "    \"The dialogues are sharp and witty. The characters' conversations felt authentic.\",\n",
    "    \"The narrative is beautifully layered. I discovered new nuances with each re-read.\",\n",
    "    \"This book tackles important social issues with sensitivity and depth.\",\n",
    "    \"I connected with the protagonist on a personal level. Their journey resonated with me.\",\n",
    "    \"The plot was confusing, and I couldn't follow the story.\",\n",
    "    \"I found the characters to be one-dimensional and uninteresting.\",\n",
    "    \"This book did not live up to the hype. It was a letdown.\",\n",
    "    \"The writing style was dull, and the pacing was off.\",\n",
    "    \"I couldn't connect with any of the characters. They felt flat.\",\n",
    "    \"The story lacked depth and failed to engage my interest.\",\n",
    "    \"The dialogue felt forced, and the characters' motivations were unclear.\",\n",
    "    \"The ending was abrupt and unsatisfying.\",\n",
    "    \"I expected more from this book, but it fell short of my expectations.\",\n",
    "    \"The themes explored in the book were not well-developed or meaningful.\"\n",
    "]\n",
    "y = [ 1,1,1,1,1,1,1,1,1,1,1,1,1,1,1,0,0,0, 0, 0, 0, 0, 0, 0, 0]\n",
    "\n",
    "##создала массив из 25 отзывов о книге 15-полож и 10-отриц\n"
   ]
  },
  {
   "cell_type": "code",
   "execution_count": 128,
   "metadata": {},
   "outputs": [
    {
     "name": "stdout",
     "output_type": "stream",
     "text": [
      "['absolute' 'adventure' 'after' 'all' 'an' 'and' 'anyone' 'author'\n",
      " 'beautifully' 'between' 'book' 'building' 'but' 'captivating' 'chapter'\n",
      " 'characters' 'confusing' 'connected' 'couldn' 'crafted' 'cry' 'depth'\n",
      " 'developed' 'dialogue' 'discovered' 'down' 'dull' 'each' 'edge'\n",
      " 'emotional' 'ending' 'engage' 'enough' 'everything' 'expectations'\n",
      " 'expected' 'expertly' 'exploration' 'explored' 'failed' 'fell' 'felt'\n",
      " 'finish' 'finished' 'follow' 'for' 'forced' 'from' 'get' 'good'\n",
      " 'guessing' 'hungry' 'important' 'in' 'interest' 'is' 'issues' 'it'\n",
      " 'journey' 'keeps' 'kept' 'lacked' 'last' 'laugh' 'layered' 'leaves'\n",
      " 'level' 'like' 'living' 'long' 'love' 'loves' 'made' 'masterpiece' 'me'\n",
      " 'meaningful' 'more' 'motivations' 'must' 'my' 'mystery' 'narrative' 'new'\n",
      " 'not' 'nuances' 'of' 'off' 'on' 'or' 'pacing' 'page' 'perfect' 'personal'\n",
      " 'plot' 'profound' 'protagonist' 'provoking' 'put' 're' 'read' 'resonated'\n",
      " 'rich' 'rollercoaster' 'satisfying' 'seat' 'sensitivity' 'short' 'social'\n",
      " 'start' 'stayed' 'story' 'storytelling' 'style' 'surpassed' 'suspense'\n",
      " 'tackles' 'the' 'their' 'themes' 'this' 'thought' 'thrilling' 'to'\n",
      " 'twists' 'unclear' 'unexpected' 'until' 'was' 'well' 'were' 'when' 'who'\n",
      " 'with' 'world' 'writing' 'you']\n",
      "==================\n",
      "[[0 0 0 ... 0 0 0]\n",
      " [0 0 0 ... 0 0 0]\n",
      " [0 0 0 ... 0 0 0]\n",
      " ...\n",
      " [0 0 0 ... 0 0 0]\n",
      " [0 0 0 ... 0 0 0]\n",
      " [0 0 0 ... 0 0 0]]\n"
     ]
    },
    {
     "data": {
      "text/plain": [
       "\"<18x136 sparse matrix of type '<class 'numpy.int64'>'\\n\\twith 213 stored elements in Compressed Sparse Row format>\""
      ]
     },
     "execution_count": 128,
     "metadata": {},
     "output_type": "execute_result"
    }
   ],
   "source": [
    "from sklearn.model_selection import train_test_split\n",
    "text_train, text_test, y_train, y_test = train_test_split(book_rewiews,y,random_state=0)\n",
    "\n",
    "vect = CountVectorizer().fit(text_train)\n",
    "\n",
    "X_train = vect.transform(text_train)\n",
    "\n",
    "feature_names = vect.get_feature_names_out()\n",
    "print(feature_names)\n",
    "print(\"==================\")\n",
    "print(X_train.toarray())\n",
    "repr(X_train)\n",
    "## разделила на обуч и тест наборы\n",
    "## создала мешок слов"
   ]
  },
  {
   "cell_type": "code",
   "execution_count": 131,
   "metadata": {},
   "outputs": [
    {
     "name": "stdout",
     "output_type": "stream",
     "text": [
      "0.65\n"
     ]
    }
   ],
   "source": [
    "scores = cross_val_score(LogisticRegression(max_iter=10000),X_train,y_train,cv=5)\n",
    "print(np.mean(scores))"
   ]
  },
  {
   "cell_type": "code",
   "execution_count": 132,
   "metadata": {},
   "outputs": [
    {
     "name": "stdout",
     "output_type": "stream",
     "text": [
      "0.6666666666666666\n"
     ]
    },
    {
     "data": {
      "text/plain": [
       "{'C': 0.001}"
      ]
     },
     "execution_count": 132,
     "metadata": {},
     "output_type": "execute_result"
    }
   ],
   "source": [
    "from sklearn.model_selection import GridSearchCV\n",
    "param_grid = {'C': [0.001,0.01,0.1,1,10]}\n",
    "grid = GridSearchCV(LogisticRegression(max_iter=10000), param_grid, cv=5)\n",
    "grid.fit(X_train,y_train)\n",
    "print(grid.best_score_)\n",
    "grid.best_params_"
   ]
  },
  {
   "cell_type": "code",
   "execution_count": 134,
   "metadata": {},
   "outputs": [
    {
     "data": {
      "text/plain": [
       "0.42857142857142855"
      ]
     },
     "execution_count": 134,
     "metadata": {},
     "output_type": "execute_result"
    }
   ],
   "source": [
    "X_test = vect.transform(text_test)\n",
    "grid.score(X_test,y_test)"
   ]
  },
  {
   "cell_type": "markdown",
   "metadata": {},
   "source": [
    "        3. Создайте словарь стоп-слов, примените стоп-слова к своему «мешку слов»"
   ]
  },
  {
   "cell_type": "code",
   "execution_count": 148,
   "metadata": {},
   "outputs": [
    {
     "name": "stdout",
     "output_type": "stream",
     "text": [
      "['abrupt' 'absolute' 'adventure' 'authentic' 'author' 'beautifully' 'book'\n",
      " 'building' 'captivating' 'chapter' 'characters' 'confusing' 'connect'\n",
      " 'connected' 'conversations' 'couldn' 'crafted' 'depth' 'developed'\n",
      " 'dialogue' 'dialogues' 'did' 'dimensional' 'discovered' 'dull' 'edge'\n",
      " 'emotional' 'ending' 'engage' 'engaging' 'evocative' 'expectations'\n",
      " 'expected' 'expertly' 'exploration' 'explored' 'failed' 'fell' 'felt'\n",
      " 'finish' 'finished' 'flat' 'follow' 'forced' 'good' 'guessing' 'hungry'\n",
      " 'hype' 'important' 'issues' 'journey' 'keeps' 'kept' 'lacked' 'laugh'\n",
      " 'layered' 'leaves' 'letdown' 'level' 'like' 'live' 'living' 'long' 'love'\n",
      " 'loves' 'masterpiece' 'meaningful' 'motivations' 'mystery' 'narrative'\n",
      " 'new' 'nuances' 'pacing' 'page' 'perfect' 'personal' 'plot' 'poetic'\n",
      " 'profound' 'prose' 'protagonist' 'provoking' 'read' 'relatable'\n",
      " 'resonated' 'rich' 'rollercoaster' 'satisfying' 'seat' 'sensitivity'\n",
      " 'sharp' 'short' 'social' 'start' 'stayed' 'story' 'storytelling' 'style'\n",
      " 'surpassed' 'suspense' 'tackles' 'themes' 'thought' 'thrilling'\n",
      " 'transported' 'truly' 'twists' 'unclear' 'unexpected' 'uninteresting'\n",
      " 'unsatisfying' 'witty' 'world' 'writing']\n"
     ]
    },
    {
     "data": {
      "text/plain": [
       "\"<18x114 sparse matrix of type '<class 'numpy.int64'>'\\n\\twith 111 stored elements in Compressed Sparse Row format>\""
      ]
     },
     "execution_count": 148,
     "metadata": {},
     "output_type": "execute_result"
    }
   ],
   "source": [
    "vect = CountVectorizer(stop_words=\"english\").fit(book_rewiews)\n",
    "X_train = vect.transform(text_train)\n",
    "feature_names = vect.get_feature_names_out()\n",
    "print(feature_names)\n",
    "repr(X_train)\n",
    "## у нас стало на 22 признаков меньше было 136"
   ]
  },
  {
   "cell_type": "code",
   "execution_count": 137,
   "metadata": {},
   "outputs": [
    {
     "name": "stdout",
     "output_type": "stream",
     "text": [
      "0.6666666666666666\n"
     ]
    }
   ],
   "source": [
    "grid = GridSearchCV(LogisticRegression(max_iter=10000), param_grid, cv=5)\n",
    "grid.fit(X_train,y_train)\n",
    "print(grid.best_score_)\n",
    "## стоп-слова не особо улучшили точность модели"
   ]
  },
  {
   "cell_type": "markdown",
   "metadata": {},
   "source": [
    "        Масштабируйте данные с помощью tf-idf"
   ]
  },
  {
   "cell_type": "code",
   "execution_count": 149,
   "metadata": {},
   "outputs": [
    {
     "name": "stdout",
     "output_type": "stream",
     "text": [
      "['the' 'book' 'and' 'was' 'this' 'is' 'me' 'with' 'it' 'of' 'my' 'story'\n",
      " 'couldn' 'in' 'expectations' 'plot' 'felt' 'pacing' 'each' 'on' 'from'\n",
      " 'read' 'themes' 'author' 'more' 'an' 'depth' 'were' 'for' 'to' 'nuances'\n",
      " 'put' 'motivations' 'provoking' 'protagonist' 'profound' 'new' 'page'\n",
      " 'personal' 'or' 'not' 'perfect' 'mystery' 'narrative' 'must' 'off'\n",
      " 'absolute' 'resonated' 'world' 'who' 'when' 'well' 'until' 'unexpected'\n",
      " 'unclear' 'twists' 'thrilling' 'thought' 'their' 'tackles' 'suspense'\n",
      " 'surpassed' 'style' 'storytelling' 'stayed' 'start' 'social' 'short'\n",
      " 'meaningful' 'seat' 'satisfying' 'rollercoaster' 'rich' 're'\n",
      " 'sensitivity' 'like' 'made' 'everything' 'enough' 'engage' 'ending'\n",
      " 'emotional' 'edge' 'dull' 'down' 'discovered' 'dialogue' 'developed'\n",
      " 'cry' 'expected' 'crafted' 'confusing' 'characters' 'chapter'\n",
      " 'captivating' 'but' 'building' 'between' 'beautifully' 'anyone']\n"
     ]
    },
    {
     "data": {
      "text/plain": [
       "\"<18x136 sparse matrix of type '<class 'numpy.float64'>'\\n\\twith 213 stored elements in Compressed Sparse Row format>\""
      ]
     },
     "execution_count": 149,
     "metadata": {},
     "output_type": "execute_result"
    }
   ],
   "source": [
    "vectorizer = TfidfVectorizer()\n",
    "X_train = vectorizer.fit_transform(text_train)\n",
    "sorted_by_idf = np.argsort(vectorizer.idf_)\n",
    "feature_names = vectorizer.get_feature_names_out()\n",
    "print(feature_names[sorted_by_idf[:100]])\n",
    "repr(X_train)\n",
    "## словами с низкими значениями idf стали английские стоп-слова типа \"the\" и \"and\"."
   ]
  },
  {
   "cell_type": "code",
   "execution_count": 152,
   "metadata": {},
   "outputs": [
    {
     "name": "stdout",
     "output_type": "stream",
     "text": [
      "0.6666666666666666\n"
     ]
    }
   ],
   "source": [
    "pipe = make_pipeline(TfidfVectorizer(norm=None),LogisticRegression(max_iter=10000))\n",
    "param_grid = {'logisticregression__C':[0.001,0.01,0.1,1,10]}\n",
    "grid = GridSearchCV(pipe,param_grid, cv=5)\n",
    "grid.fit(text_train,y_train)\n",
    "print(grid.best_score_)"
   ]
  },
  {
   "cell_type": "markdown",
   "metadata": {},
   "source": [
    "        Сделайте выводы по работе."
   ]
  },
  {
   "cell_type": "markdown",
   "metadata": {},
   "source": [
    "Модель, обученная на предоставленном наборе данных, демонстрирует относительно низкую точность, составляющую приблизительно 0.43. Это может свидетельствовать о том, что текущий подход к обучению модели не достаточно эффективен. Возможные причины такой производительности могут включать в себя неоптимальную предобработку данных, выбор неподходящей модели или недостаточное количество данных для обучения"
   ]
  }
 ],
 "metadata": {
  "kernelspec": {
   "display_name": "Python 3",
   "language": "python",
   "name": "python3"
  },
  "language_info": {
   "codemirror_mode": {
    "name": "ipython",
    "version": 3
   },
   "file_extension": ".py",
   "mimetype": "text/x-python",
   "name": "python",
   "nbconvert_exporter": "python",
   "pygments_lexer": "ipython3",
   "version": "3.10.2"
  }
 },
 "nbformat": 4,
 "nbformat_minor": 2
}
